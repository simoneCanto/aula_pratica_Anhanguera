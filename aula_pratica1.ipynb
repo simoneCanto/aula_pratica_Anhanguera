{
  "nbformat": 4,
  "nbformat_minor": 0,
  "metadata": {
    "colab": {
      "provenance": [],
      "authorship_tag": "ABX9TyP0PKkEbD4L+b/3R7X4T2UI",
      "include_colab_link": true
    },
    "kernelspec": {
      "name": "python3",
      "display_name": "Python 3"
    },
    "language_info": {
      "name": "python"
    }
  },
  "cells": [
    {
      "cell_type": "markdown",
      "metadata": {
        "id": "view-in-github",
        "colab_type": "text"
      },
      "source": [
        "<a href=\"https://colab.research.google.com/github/simoneCanto/aula_pratica_Anhanguera/blob/main/aula_pratica1.ipynb\" target=\"_parent\"><img src=\"https://colab.research.google.com/assets/colab-badge.svg\" alt=\"Open In Colab\"/></a>"
      ]
    },
    {
      "cell_type": "code",
      "source": [
        "#Método para calcular o valorabsoluto usando if-else\n",
        "def abs_if_else(valor):\n",
        "  if valor < 0:\n",
        "    return -valor\n",
        "  else:\n",
        "    return valor"
      ],
      "metadata": {
        "id": "u0SBwY7HN_GM"
      },
      "execution_count": 13,
      "outputs": []
    },
    {
      "cell_type": "code",
      "source": [
        "#Método para calcular valor absoluto usando operador ternário\n",
        "def abs_ternario(valor):\n",
        "  return -valor if valor < 0 else valor"
      ],
      "metadata": {
        "id": "4XXo-VEQRSqk"
      },
      "execution_count": 14,
      "outputs": []
    },
    {
      "cell_type": "code",
      "source": [
        "#Método para calcular somatório de 0 até n usando for\n",
        "def somatorio_for(n):\n",
        "  soma = 0\n",
        "  for i in range(n + 1):\n",
        "    soma += i\n",
        "  return soma"
      ],
      "metadata": {
        "id": "qMPYQ66TRz70"
      },
      "execution_count": 15,
      "outputs": []
    },
    {
      "cell_type": "code",
      "source": [
        "#Método para calcular somatório de 0 até n usando While\n",
        "def somatorio_while(n):\n",
        "  soma = 0\n",
        "  i = 0\n",
        "  while i <= n:\n",
        "    soma += i\n",
        "    i += 1\n",
        "  return soma"
      ],
      "metadata": {
        "id": "3yjcH2DySmXk"
      },
      "execution_count": 16,
      "outputs": []
    },
    {
      "cell_type": "code",
      "source": [
        "#Método para calcular somatório de 0 até n usando do-While (Simulado em Python)\n",
        "def somatorio_dowhile(n):\n",
        "  soma = 0\n",
        "  i = 0\n",
        "  while True:\n",
        "    soma += i\n",
        "    i += 1\n",
        "    if i > n:\n",
        "      break\n",
        "  return soma"
      ],
      "metadata": {
        "id": "yGUwLh5iS198"
      },
      "execution_count": 17,
      "outputs": []
    },
    {
      "cell_type": "code",
      "source": [
        "# Testes\n",
        "print(abs_if_else(-13))\n",
        "print(abs_ternario(-13))\n",
        "print(somatorio_for(20))\n",
        "print(somatorio_while(20))\n",
        "print(somatorio_dowhile(20))"
      ],
      "metadata": {
        "colab": {
          "base_uri": "https://localhost:8080/"
        },
        "id": "Vo9slh9pTITs",
        "outputId": "acba5cdd-6aaa-4096-84b3-23a78f5d0899"
      },
      "execution_count": 18,
      "outputs": [
        {
          "output_type": "stream",
          "name": "stdout",
          "text": [
            "13\n",
            "13\n",
            "210\n",
            "210\n",
            "210\n"
          ]
        }
      ]
    }
  ]
}